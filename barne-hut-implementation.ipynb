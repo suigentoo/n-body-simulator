{
 "cells": [
  {
   "cell_type": "code",
   "execution_count": 1,
   "metadata": {},
   "outputs": [],
   "source": [
    "import math\n",
    "import random\n",
    "\n",
    "import matplotlib.animation as animation\n",
    "import matplotlib.pyplot as plt"
   ]
  },
  {
   "cell_type": "code",
   "execution_count": 2,
   "metadata": {},
   "outputs": [],
   "source": [
    "class Body(object):\n",
    "    def __init__(self, mass, x, y):\n",
    "        self.mass = mass\n",
    "        self.x = x\n",
    "        self.y = y\n",
    "        self.a = [0,0]\n",
    "        self.v = [0,0]\n",
    "        \n",
    "    '''\n",
    "    Psuedocode from: http://arborjs.org/docs/barnes-hut\n",
    "    \n",
    "    1. If the current node is an external node (and it is not body b), calculate the \n",
    "       force exerted by the current node on b, and add this amount to b’s net force.\n",
    "    \n",
    "    2. Otherwise, calculate the ratio s/d. If s/d < θ, treat this internal node as a \n",
    "       single body, and calculate the force it exerts on body b, and add this amount to \n",
    "       b’s net force.\n",
    "    \n",
    "    3. Otherwise, run the procedure recursively on each of the current node’s children.\n",
    "    '''\n",
    "    def compute_acceleration(self, tree, g, theta):\n",
    "        dx = tree.x_cm - self.x\n",
    "        dy = tree.y_cm - self.y\n",
    "        r2 = dx*dx + dy*dy\n",
    "        r = math.sqrt(r2)\n",
    "        if (tree.b and tree.children == [] and r != 0) or \\\n",
    "           (tree.num_bodies != 0 and tree.size < r * theta):\n",
    "            mag = g * tree.total_mass\n",
    "            self.a[0] += mag * dx / r2\n",
    "            self.a[1] += mag * dy / r2\n",
    "        else: \n",
    "            for ch in tree.children:\n",
    "                self.compute_acceleration(ch, g, theta)\n",
    "                        \n",
    "    def compute_velocity(self, time_step=1):\n",
    "        if self.a:\n",
    "            self.v = [0,0]\n",
    "            self.v[0] += self.a[0] * time_step\n",
    "            self.v[1] += self.a[1] * time_step"
   ]
  },
  {
   "cell_type": "code",
   "execution_count": 3,
   "metadata": {},
   "outputs": [],
   "source": [
    "class QuadTree(object):\n",
    "    def __init__(self, x_min, x_max, y_min, y_max):\n",
    "        self.b = None\n",
    "        self.num_bodies = 0\n",
    "        self.total_mass = 0\n",
    "        self.x_min = x_min\n",
    "        self.x_max = x_max\n",
    "        self.y_min = y_min\n",
    "        self.y_max = y_max\n",
    "        self.x_mid = (self.x_min + self.x_max) / 2\n",
    "        self.y_mid = (self.y_min + self.y_max) / 2\n",
    "        self.size = x_max - x_min\n",
    "        self.x_cm = 0\n",
    "        self.y_cm = 0\n",
    "        self.children = []\n",
    "        \n",
    "    def get_quadrant_index(self, b):\n",
    "        if b.y > self.y_mid:\n",
    "            if b.x > self.x_mid:\n",
    "                return 0 # Q1\n",
    "            else: \n",
    "                return 1 # Q2\n",
    "        else:\n",
    "            if b.x < self.x_mid:\n",
    "                return 2 # Q3\n",
    "            else:\n",
    "                return 3 # Q4\n",
    "    \n",
    "    def subdivide(self):\n",
    "        self.children = [QuadTree(self.x_mid, self.x_max, self.y_mid, self.y_max),\n",
    "                         QuadTree(self.x_min, self.x_mid, self.y_mid, self.y_max),\n",
    "                         QuadTree(self.x_min, self.x_mid, self.y_min, self.y_mid),\n",
    "                         QuadTree(self.x_mid, self.x_max, self.y_min, self.y_mid)]\n",
    "    \n",
    "    def insert(self, b):\n",
    "        b_idx = self.get_quadrant_index(b)\n",
    "        if self.num_bodies == 0:\n",
    "            self.b = b\n",
    "        elif self.children:\n",
    "            self.children[b_idx].insert(b)\n",
    "        else:\n",
    "            self.subdivide()\n",
    "            c_idx = self.get_quadrant_index(self.b)\n",
    "            self.children[c_idx].insert(self.b)\n",
    "            self.b = None\n",
    "            self.children[b_idx].insert(b)\n",
    "        self.num_bodies += 1 \n",
    "    \n",
    "    def compute_cm(self):\n",
    "        if self.b:\n",
    "            self.total_mass = self.b.mass\n",
    "            self.x_cm = self.b.x\n",
    "            self.y_cm = self.b.y\n",
    "        else:\n",
    "            for ch in self.children:\n",
    "                ch.compute_cm()\n",
    "                self.total_mass += ch.total_mass\n",
    "            for ch in self.children:\n",
    "                weight = ch.total_mass / self.total_mass\n",
    "                self.x_cm += ch.x_cm * weight\n",
    "                self.y_cm += ch.y_cm * weight"
   ]
  },
  {
   "cell_type": "code",
   "execution_count": 4,
   "metadata": {},
   "outputs": [],
   "source": [
    "size = 1000\n",
    "G_CONST = 0.005\n",
    "THOLD = 0.5\n",
    "bodies = [\n",
    "    Body(1, -633.6373382558902, 487.8061787897486),\n",
    "    Body(1, 629.868336160597, -815.5256700699658),\n",
    "    Body(1, 921.7376786303696, 496.6790647203113),\n",
    "    Body(1, -889.3895517420744, -199.29829383909305),\n",
    "    Body(1, -706.5324736899241, -160.52358780648808),\n",
    "    Body(1, -562.6928724218519, 923.7505782607432),\n",
    "    Body(1, 501.64886988758553, -107.02306428005431),\n",
    "    Body(1, 417.21372899319886, 714.3554901176412),\n",
    "    Body(1, -593.2489401107308, 422.8464200209098),\n",
    "    Body(1, 589.9171624527849, 875.2736798362548)\n",
    "]\n",
    "\n",
    "def create_bodies(num_bodies=10):\n",
    "    for i in range(num_bodies):\n",
    "        bodies.append(Body(1, \\\n",
    "                           random.uniform(-size, size), \\\n",
    "                           random.uniform(-size, size)))\n",
    "    return bodies\n",
    "\n",
    "def build_tree():\n",
    "    root = QuadTree(-size, size, -size, size)\n",
    "    for b in bodies: \n",
    "        root.insert(b)\n",
    "    root.compute_cm()\n",
    "    for b in bodies:\n",
    "        b.compute_acceleration(root, g=G_CONST, theta=THOLD)\n",
    "        b.compute_velocity()\n",
    "    return root"
   ]
  },
  {
   "cell_type": "code",
   "execution_count": 5,
   "metadata": {},
   "outputs": [
    {
     "name": "stdout",
     "output_type": "stream",
     "text": [
      "1 -633.6373382558902 487.8061787897486\n",
      "1 629.868336160597 -815.5256700699658\n",
      "1 921.7376786303696 496.6790647203113\n",
      "1 -889.3895517420744 -199.29829383909305\n",
      "1 -706.5324736899241 -160.52358780648808\n",
      "1 -562.6928724218519 923.7505782607432\n",
      "1 501.64886988758553 -107.02306428005431\n",
      "1 417.21372899319886 714.3554901176412\n",
      "1 -593.2489401107308 422.8464200209098\n",
      "1 589.9171624527849 875.2736798362548\n"
     ]
    }
   ],
   "source": [
    "for b in bodies:\n",
    "    print(b.mass, b.x, b.y)"
   ]
  },
  {
   "cell_type": "code",
   "execution_count": 6,
   "metadata": {},
   "outputs": [
    {
     "data": {
      "text/plain": [
       "<__main__.QuadTree at 0x7fc7e0a893c8>"
      ]
     },
     "execution_count": 6,
     "metadata": {},
     "output_type": "execute_result"
    }
   ],
   "source": [
    "build_tree()"
   ]
  },
  {
   "cell_type": "code",
   "execution_count": 7,
   "metadata": {},
   "outputs": [
    {
     "name": "stdout",
     "output_type": "stream",
     "text": [
      "\n",
      "acceleration: 4.994527460622609e-05 -5.9959073560917956e-05 \n",
      "velocity: 4.994527460622609e-05 -5.9959073560917956e-05\n",
      "\n",
      "acceleration: -1.206406358417151e-05 2.5203988145842467e-05 \n",
      "velocity: -1.206406358417151e-05 2.5203988145842467e-05\n",
      "\n",
      "acceleration: -3.4247506504996344e-05 6.014607941426543e-07 \n",
      "velocity: -3.4247506504996344e-05 6.014607941426543e-07\n",
      "\n",
      "acceleration: 4.642187369262468e-05 2.6044387491394728e-05 \n",
      "velocity: 4.642187369262468e-05 2.6044387491394728e-05\n",
      "\n",
      "acceleration: -8.25442604138985e-06 1.866556961340652e-05 \n",
      "velocity: -8.25442604138985e-06 1.866556961340652e-05\n",
      "\n",
      "acceleration: 1.1813200569370845e-05 -3.620823969300134e-05 \n",
      "velocity: 1.1813200569370845e-05 -3.620823969300134e-05\n",
      "\n",
      "acceleration: -1.2289981346280964e-05 1.5342932986789066e-05 \n",
      "velocity: -1.2289981346280964e-05 1.5342932986789066e-05\n",
      "\n",
      "acceleration: 5.573016360860583e-06 -3.5744976556188515e-06 \n",
      "velocity: 5.573016360860583e-06 -3.5744976556188515e-06\n",
      "\n",
      "acceleration: -2.1364050932841353e-05 4.9698766648455735e-05 \n",
      "velocity: -2.1364050932841353e-05 4.9698766648455735e-05\n",
      "\n",
      "acceleration: -2.563881222311353e-05 -3.5788129781849164e-05 \n",
      "velocity: -2.563881222311353e-05 -3.5788129781849164e-05\n"
     ]
    }
   ],
   "source": [
    "for b in bodies:\n",
    "    print(\n",
    "        '\\nacceleration:', b.a[0], b.a[1], \n",
    "        '\\nvelocity:', b.v[0], b.v[1]\n",
    "    )"
   ]
  },
  {
   "cell_type": "code",
   "execution_count": 8,
   "metadata": {},
   "outputs": [
    {
     "data": {
      "image/png": "[encoded data removed]",
      "text/plain": [
       "<matplotlib.figure.Figure at 0x7fc80828dac8>"
      ]
     },
     "metadata": {},
     "output_type": "display_data"
    }
   ],
   "source": [
    "plt_size = 2 * size\n",
    "plt.axes(xlim=(-plt_size, plt_size), ylim=(-plt_size, plt_size))\n",
    "for b in bodies:\n",
    "    plt.plot(b.x, b.y, 'ro')\n",
    "plt.show()"
   ]
  }
 ],
 "metadata": {
  "kernelspec": {
   "display_name": "Python 3",
   "language": "python",
   "name": "python3"
  },
  "language_info": {
   "codemirror_mode": {
    "name": "ipython",
    "version": 3
   },
   "file_extension": ".py",
   "mimetype": "text/x-python",
   "name": "python",
   "nbconvert_exporter": "python",
   "pygments_lexer": "ipython3",
   "version": "3.5.2"
  }
 },
 "nbformat": 4,
 "nbformat_minor": 2
}
